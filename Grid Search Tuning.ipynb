{
 "cells": [
  {
   "cell_type": "code",
   "execution_count": 1,
   "metadata": {},
   "outputs": [],
   "source": [
    "import pandas as pd\n",
    "import numpy as np\n",
    "\n",
    "import lightgbm as lgb\n",
    "\n",
    "from sklearn.model_selection import train_test_split\n",
    "\n",
    "import warnings\n",
    "warnings.filterwarnings('ignore')\n",
    "\n",
    "n_folds = 5\n",
    "MAX_EVALS = 10"
   ]
  },
  {
   "cell_type": "code",
   "execution_count": 2,
   "metadata": {},
   "outputs": [
    {
     "name": "stdout",
     "output_type": "stream",
     "text": [
      "Training features shape:  (20000, 127)\n",
      "Testing features shape:  (10000, 127)\n"
     ]
    }
   ],
   "source": [
    "features = pd.read_csv('C:/Users/Richard Cheung/Desktop/Personal Project/training_data2.csv')\n",
    "\n",
    "features = features.sample(n = 30000, random_state = 42)\n",
    "\n",
    "features = features.select_dtypes('number')\n",
    "\n",
    "labels = np.array(features['target'].astype(np.int32)).reshape((-1, ))\n",
    "features = features.drop(columns = ['target'])\n",
    "\n",
    "train_features, test_features, train_labels, test_labels = train_test_split(features,\n",
    "                                                                            labels,\n",
    "                                                                            test_size = 10000,\n",
    "                                                                            random_state = 50)\n",
    "\n",
    "print('Training features shape: ', train_features.shape)\n",
    "print('Testing features shape: ', test_features.shape)"
   ]
  },
  {
   "cell_type": "code",
   "execution_count": 3,
   "metadata": {},
   "outputs": [],
   "source": [
    "train_set = lgb.Dataset(data = train_features, label = train_labels)\n",
    "test_set = lgb.Dataset(data = test_features, label = test_labels)"
   ]
  },
  {
   "cell_type": "code",
   "execution_count": 5,
   "metadata": {},
   "outputs": [
    {
     "name": "stdout",
     "output_type": "stream",
     "text": [
      "The maximum validation RMSE was: 2481.05874 with a standard deviation of 525.89965.\n",
      "The optimal number of boosting rounds (estimators) was 85.\n"
     ]
    }
   ],
   "source": [
    "model = lgb.LGBMRegressor()\n",
    "default_params = model.get_params()\n",
    "\n",
    "del default_params['n_estimators']\n",
    "\n",
    "cv_results = lgb.cv(default_params,\n",
    "                    train_set, \n",
    "                    num_boost_round = 10000,\n",
    "                    early_stopping_rounds = 100,\n",
    "                    metrics = 'rmse',\n",
    "                    nfold = n_folds,\n",
    "                    seed = 42)\n",
    "\n",
    "print('The maximum validation RMSE was: {:.5f} with a standard deviation of {:.5f}.'.format(cv_results['rmse-mean'][-1],\n",
    "                                                                                           cv_results['rmse-stdv'][-1]))\n",
    "print('The optimal number of boosting rounds (estimators) was {}.'.format(len(cv_results['rmse-mean'])))"
   ]
  },
  {
   "cell_type": "code",
   "execution_count": 6,
   "metadata": {},
   "outputs": [],
   "source": [
    "from sklearn.metrics import mean_squared_error"
   ]
  },
  {
   "cell_type": "code",
   "execution_count": 8,
   "metadata": {},
   "outputs": [
    {
     "name": "stdout",
     "output_type": "stream",
     "text": [
      "The baseline model scores 2731.27568 RMSE on the test set.\n"
     ]
    }
   ],
   "source": [
    "model.n_estimators = len(cv_results['rmse-mean'])\n",
    "\n",
    "model.fit(train_features, train_labels)\n",
    "preds = model.predict(test_features)\n",
    "baseline_rmse = np.sqrt(mean_squared_error(test_labels, preds))\n",
    "\n",
    "print('The baseline model scores {:.5f} RMSE on the test set.'.format(baseline_rmse))\n",
    "\n",
    "# This is the baseline score before hyperparameter tuning"
   ]
  },
  {
   "cell_type": "code",
   "execution_count": 9,
   "metadata": {},
   "outputs": [],
   "source": [
    "def objective(hyperparameters, iteration):\n",
    "    \n",
    "    if 'n_estimators' in hyperparameters.keys():\n",
    "        del hyperparameters['n_estimators']\n",
    "        \n",
    "    cv_results = lgb.cv(hyperparameters,\n",
    "                        train_set,\n",
    "                        num_boost_round = 10000, \n",
    "                        nfold = n_folds,\n",
    "                        early_stopping_rounds = 100,\n",
    "                        metrics = 'rmse',\n",
    "                        seed = 42)\n",
    "    \n",
    "    score = cv_results['rmse-mean'][-1]\n",
    "    estimators = len(cv_results['rmse-mean'])\n",
    "    hyperparameters['n_estimators'] = estimators\n",
    "    \n",
    "    return [score, hyperparameters, iteration]"
   ]
  },
  {
   "cell_type": "code",
   "execution_count": 10,
   "metadata": {},
   "outputs": [
    {
     "name": "stdout",
     "output_type": "stream",
     "text": [
      "The cross-validation RMSE was 2481.05874.\n"
     ]
    }
   ],
   "source": [
    "score, params, iteration = objective(default_params, 1)\n",
    "\n",
    "print('The cross-validation RMSE was {:.5f}.'.format(score))"
   ]
  },
  {
   "cell_type": "code",
   "execution_count": 11,
   "metadata": {},
   "outputs": [
    {
     "data": {
      "text/plain": [
       "{'boosting_type': 'gbdt',\n",
       " 'class_weight': None,\n",
       " 'colsample_bytree': 1.0,\n",
       " 'learning_rate': 0.1,\n",
       " 'max_depth': -1,\n",
       " 'min_child_samples': 20,\n",
       " 'min_child_weight': 0.001,\n",
       " 'min_split_gain': 0.0,\n",
       " 'n_estimators': 100,\n",
       " 'n_jobs': -1,\n",
       " 'num_leaves': 31,\n",
       " 'objective': None,\n",
       " 'random_state': None,\n",
       " 'reg_alpha': 0.0,\n",
       " 'reg_lambda': 0.0,\n",
       " 'silent': True,\n",
       " 'subsample': 1.0,\n",
       " 'subsample_for_bin': 200000,\n",
       " 'subsample_freq': 0}"
      ]
     },
     "execution_count": 11,
     "metadata": {},
     "output_type": "execute_result"
    }
   ],
   "source": [
    "model = lgb.LGBMModel()\n",
    "model.get_params()"
   ]
  },
  {
   "cell_type": "code",
   "execution_count": 12,
   "metadata": {},
   "outputs": [],
   "source": [
    "param_grid = {\n",
    "    'boosting_type': ['gbdt', 'goss', 'dart'],\n",
    "    'num_leaves': list(range(20, 150)),\n",
    "    'learning_rate': list(np.logspace(np.log10(0.005), np.log10(0.5), base= 10, num = 1000)),\n",
    "    'subsample_for_bin': list(range(20000, 300000, 20000)),\n",
    "    'min_child_samples': list(range(20, 500, 5)),\n",
    "    'reg_alpha': list(np.linspace(0, 1)),\n",
    "    'reg_lambda': list(np.linspace(0, 1)),\n",
    "    'colsample_bytree': list(np.linspace(0.6, 1, 10)),\n",
    "    'subsample': list(np.linspace(0.5, 1, 100)),\n",
    "    'is_unbalance': [True, False]\n",
    "}"
   ]
  },
  {
   "cell_type": "code",
   "execution_count": 13,
   "metadata": {},
   "outputs": [
    {
     "name": "stdout",
     "output_type": "stream",
     "text": [
      "boosting type:  goss\n",
      "Subsample ratio:  1.0\n"
     ]
    }
   ],
   "source": [
    "import random\n",
    "\n",
    "random.seed(50)\n",
    "\n",
    "boosting_type = random.sample(param_grid['boosting_type'], 1)[0]\n",
    "\n",
    "subsample = 1.0 if boosting_type =='goss' else random.sample(param_grid['subsample'], 1)[0]\n",
    "\n",
    "print('boosting type: ', boosting_type)\n",
    "print('Subsample ratio: ', subsample)"
   ]
  },
  {
   "cell_type": "code",
   "execution_count": 14,
   "metadata": {},
   "outputs": [],
   "source": [
    "random_results = pd.DataFrame(columns = ['score', 'params', 'iteration'],\n",
    "                              index = list(range(MAX_EVALS)))\n",
    "\n",
    "grid_results = pd.DataFrame(columns = ['score', 'params', 'iteration'],\n",
    "                            index = list(range(MAX_EVALS)))"
   ]
  },
  {
   "cell_type": "code",
   "execution_count": 15,
   "metadata": {},
   "outputs": [],
   "source": [
    "import itertools\n",
    "\n",
    "def grid_search(param_grid, max_evals = MAX_EVALS):\n",
    "    \n",
    "    results = pd.DataFrame(columns = ['score', 'params', 'iteration'],\n",
    "                           index = list(range(max_evals)))\n",
    "    \n",
    "    keys, values = zip(*param_grid.items())\n",
    "    \n",
    "    i = 0\n",
    "    \n",
    "    for v in itertools.product(*values):\n",
    "        \n",
    "        hyperparameters = dict(zip(keys, v))\n",
    "        \n",
    "        hyperparameters['subsample'] = 1.0 if hyperparameters['boosting_type'] == 'goss' else hyperparameters['subsample']\n",
    "        \n",
    "        eval_results = objective(hyperparameters, i)\n",
    "        \n",
    "        results.loc[i, :] = eval_results\n",
    "        \n",
    "        i += 1\n",
    "        \n",
    "        if i > max_evals:\n",
    "            break\n",
    "            \n",
    "    results.sort_values('score', ascending = False, inplace = True)\n",
    "    results.reset_index(inplace = True)\n",
    "    \n",
    "    return results"
   ]
  },
  {
   "cell_type": "code",
   "execution_count": 16,
   "metadata": {},
   "outputs": [
    {
     "name": "stdout",
     "output_type": "stream",
     "text": [
      "The best validation score was 2466.78647\n",
      "\n",
      "The best hyperparameters were:\n",
      "{'boosting_type': 'gbdt',\n",
      " 'colsample_bytree': 0.6,\n",
      " 'is_unbalance': True,\n",
      " 'learning_rate': 0.004999999999999999,\n",
      " 'metric': 'rmse',\n",
      " 'min_child_samples': 20,\n",
      " 'n_estimators': 4599,\n",
      " 'num_leaves': 20,\n",
      " 'reg_alpha': 0.0,\n",
      " 'reg_lambda': 0.0,\n",
      " 'subsample': 0.5,\n",
      " 'subsample_for_bin': 20000,\n",
      " 'verbose': 1}\n"
     ]
    }
   ],
   "source": [
    "grid_results = grid_search(param_grid)\n",
    "\n",
    "print('The best validation score was {:.5f}'.format(grid_results.loc[0, 'score']))\n",
    "print('\\nThe best hyperparameters were:')\n",
    "\n",
    "import pprint\n",
    "pprint.pprint(grid_results.loc[0, 'params'])"
   ]
  },
  {
   "cell_type": "code",
   "execution_count": 18,
   "metadata": {},
   "outputs": [
    {
     "name": "stdout",
     "output_type": "stream",
     "text": [
      "The best model from grid search scores 2711.55669 MAE on the test set.\n"
     ]
    }
   ],
   "source": [
    "grid_search_params = grid_results.loc[0, 'params']\n",
    "\n",
    "model = lgb.LGBMRegressor(**grid_search_params, random_state = 42)\n",
    "model.fit(train_features, train_labels)\n",
    "\n",
    "preds = model.predict(test_features)\n",
    "\n",
    "print('The best model from grid search scores {:.5f} MAE on the test set.'.format(np.sqrt(mean_squared_error(test_labels, preds))))"
   ]
  },
  {
   "cell_type": "code",
   "execution_count": 19,
   "metadata": {},
   "outputs": [
    {
     "data": {
      "text/plain": [
       "{'boosting_type': ['goss'],\n",
       " 'num_leaves': [88],\n",
       " 'learning_rate': [0.027778881111994384],\n",
       " 'subsample_for_bin': [220000],\n",
       " 'min_child_samples': [175],\n",
       " 'reg_alpha': [0.8979591836734693],\n",
       " 'reg_lambda': [0.6122448979591836],\n",
       " 'colsample_bytree': [0.8222222222222222],\n",
       " 'subsample': [0.5505050505050505],\n",
       " 'is_unbalance': [False],\n",
       " 'subsmaple': [0.5505050505050505]}"
      ]
     },
     "execution_count": 19,
     "metadata": {},
     "output_type": "execute_result"
    }
   ],
   "source": [
    "random.seed(50)\n",
    "\n",
    "random_params = {k: random.sample(v, 1) for k, v in param_grid.items()}\n",
    "\n",
    "random_params['subsmaple'] = 1.0 if random_params['boosting_type'] == 'goss' else random_params['subsample']\n",
    "\n",
    "random_params"
   ]
  },
  {
   "cell_type": "code",
   "execution_count": 21,
   "metadata": {},
   "outputs": [],
   "source": [
    "def random_search(param_grid, max_evals = MAX_EVALS):\n",
    "    \n",
    "    results = pd.DataFrame(columns = ['score', 'params', 'iteration'],\n",
    "                           index = list(range(max_evals)))\n",
    "    \n",
    "    for i in range(max_evals):\n",
    "        \n",
    "        hyperparameters = {k: random.sample(v, 1)[0] for k, v in param_grid.items()}\n",
    "        hyperparameters['subsample'] = 1.0 if hyperparameters['boosting_type'] == 'goss' else hyperparameters['subsample']\n",
    "        \n",
    "        eval_results = objective(hyperparameters, i)\n",
    "        \n",
    "        results.loc[i, :] = eval_results\n",
    "        \n",
    "    results.sort_values('score', ascending = False, inplace = True)\n",
    "    results.reset_index(inplace = True)\n",
    "    return results"
   ]
  },
  {
   "cell_type": "code",
   "execution_count": 22,
   "metadata": {},
   "outputs": [
    {
     "name": "stdout",
     "output_type": "stream",
     "text": [
      "The best validation score was 3978.54230\n",
      "\n",
      "The best hyperparameters were:\n",
      "{'boosting_type': 'dart',\n",
      " 'colsample_bytree': 0.6444444444444444,\n",
      " 'is_unbalance': False,\n",
      " 'learning_rate': 0.005116582891651224,\n",
      " 'metric': 'rmse',\n",
      " 'min_child_samples': 235,\n",
      " 'n_estimators': 57,\n",
      " 'num_leaves': 130,\n",
      " 'reg_alpha': 0.3469387755102041,\n",
      " 'reg_lambda': 0.5510204081632653,\n",
      " 'subsample': 0.6262626262626263,\n",
      " 'subsample_for_bin': 80000,\n",
      " 'verbose': 1}\n"
     ]
    }
   ],
   "source": [
    "random_results = random_search(param_grid)\n",
    "\n",
    "print('The best validation score was {:.5f}'.format(random_results.loc[0, 'score']))\n",
    "print('\\nThe best hyperparameters were:')\n",
    "\n",
    "import pprint\n",
    "pprint.pprint(random_results.loc[0, 'params'])"
   ]
  },
  {
   "cell_type": "code",
   "execution_count": 23,
   "metadata": {},
   "outputs": [
    {
     "name": "stdout",
     "output_type": "stream",
     "text": [
      "The best model from random search scores 6110.27897 MAE on the test set.\n"
     ]
    }
   ],
   "source": [
    "random_search_params = random_results.loc[0, 'params']\n",
    "\n",
    "model = lgb.LGBMRegressor(**random_search_params, random_state = 42)\n",
    "model.fit(train_features, train_labels)\n",
    "\n",
    "preds = model.predict(test_features)\n",
    "\n",
    "print('The best model from random search scores {:.5f} MAE on the test set.'.format(np.sqrt(mean_squared_error(test_labels, preds))))"
   ]
  }
 ],
 "metadata": {
  "kernelspec": {
   "display_name": "Python 3",
   "language": "python",
   "name": "python3"
  },
  "language_info": {
   "codemirror_mode": {
    "name": "ipython",
    "version": 3
   },
   "file_extension": ".py",
   "mimetype": "text/x-python",
   "name": "python",
   "nbconvert_exporter": "python",
   "pygments_lexer": "ipython3",
   "version": "3.6.5"
  }
 },
 "nbformat": 4,
 "nbformat_minor": 2
}
